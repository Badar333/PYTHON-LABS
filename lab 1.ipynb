{
 "cells": [
  {
   "cell_type": "markdown",
   "id": "5c1fb3fa",
   "metadata": {},
   "source": [
    "LAB 1"
   ]
  },
  {
   "cell_type": "code",
   "execution_count": 36,
   "id": "2dc9e9af",
   "metadata": {},
   "outputs": [
    {
     "name": "stdout",
     "output_type": "stream",
     "text": [
      "Hello World\n"
     ]
    }
   ],
   "source": [
    "print(\"Hello World\")"
   ]
  },
  {
   "cell_type": "code",
   "execution_count": 2,
   "id": "97df03c2",
   "metadata": {},
   "outputs": [
    {
     "ename": "SyntaxError",
     "evalue": "unterminated string literal (detected at line 1) (2771583741.py, line 1)",
     "output_type": "error",
     "traceback": [
      "\u001b[1;36m  Cell \u001b[1;32mIn[2], line 1\u001b[1;36m\u001b[0m\n\u001b[1;33m    print(\"Hello World)\u001b[0m\n\u001b[1;37m          ^\u001b[0m\n\u001b[1;31mSyntaxError\u001b[0m\u001b[1;31m:\u001b[0m unterminated string literal (detected at line 1)\n"
     ]
    }
   ],
   "source": [
    "print(\"Hello World)"
   ]
  },
  {
   "cell_type": "code",
   "execution_count": 3,
   "id": "4a5fd97e",
   "metadata": {},
   "outputs": [
    {
     "ename": "SyntaxError",
     "evalue": "invalid syntax. Perhaps you forgot a comma? (4293340409.py, line 1)",
     "output_type": "error",
     "traceback": [
      "\u001b[1;36m  Cell \u001b[1;32mIn[3], line 1\u001b[1;36m\u001b[0m\n\u001b[1;33m    print(Hello World)\u001b[0m\n\u001b[1;37m          ^\u001b[0m\n\u001b[1;31mSyntaxError\u001b[0m\u001b[1;31m:\u001b[0m invalid syntax. Perhaps you forgot a comma?\n"
     ]
    }
   ],
   "source": [
    "print(Hello World)"
   ]
  },
  {
   "cell_type": "code",
   "execution_count": 25,
   "id": "1a66debd",
   "metadata": {},
   "outputs": [
    {
     "name": "stdout",
     "output_type": "stream",
     "text": [
      "   *\n",
      "   **\n",
      "***\n",
      "   ****\n",
      "   *****\n"
     ]
    }
   ],
   "source": [
    "# First Method\n",
    "print( '   ''*')\n",
    "print('   ''**')\n",
    "print('***')\n",
    "print('   ''****')\n",
    "print('   ''*****')"
   ]
  },
  {
   "cell_type": "code",
   "execution_count": 23,
   "id": "2347cb8e",
   "metadata": {},
   "outputs": [
    {
     "name": "stdout",
     "output_type": "stream",
     "text": [
      "   *\n",
      "   **\n",
      "***\n",
      "   ****\n",
      "   *****\n"
     ]
    }
   ],
   "source": [
    "# Second Method\n",
    "print('   *')\n",
    "print('   **')\n",
    "print('***')\n",
    "print('   ****')\n",
    "print('   *****')"
   ]
  },
  {
   "cell_type": "code",
   "execution_count": 31,
   "id": "ecc037da",
   "metadata": {},
   "outputs": [
    {
     "name": "stdout",
     "output_type": "stream",
     "text": [
      "\n",
      "\n",
      "X X X X X \n",
      "\n",
      "X X X X X X \n",
      "\n",
      "X X X X X X X \n",
      "\n",
      "X X X X X X X X \n",
      "\n",
      "X X X X X X X X X "
     ]
    }
   ],
   "source": [
    "for row in range(5):\n",
    "    print(\"\\n\")\n",
    "    for column in range(row+5):\n",
    "        print('X', end=' ')\n",
    "     "
   ]
  },
  {
   "cell_type": "code",
   "execution_count": 35,
   "id": "f2cd9715",
   "metadata": {},
   "outputs": [
    {
     "name": "stdout",
     "output_type": "stream",
     "text": [
      "1 * 1 = 1\n",
      "2 * 2 = 4\n",
      "3 * 3 = 9\n",
      "4 * 4 = 16\n",
      "5 * 5 = 25\n",
      "6 * 6 = 36\n",
      "7 * 7 = 49\n",
      "8 * 8 = 64\n",
      "9 * 9 = 81\n"
     ]
    }
   ],
   "source": [
    "for i in range(1, 10):\n",
    "    print(i, '*', i, '=',i*i)"
   ]
  },
  {
   "cell_type": "code",
   "execution_count": null,
   "id": "58093d4b",
   "metadata": {},
   "outputs": [],
   "source": []
  }
 ],
 "metadata": {
  "kernelspec": {
   "display_name": "Python 3 (ipykernel)",
   "language": "python",
   "name": "python3"
  },
  "language_info": {
   "codemirror_mode": {
    "name": "ipython",
    "version": 3
   },
   "file_extension": ".py",
   "mimetype": "text/x-python",
   "name": "python",
   "nbconvert_exporter": "python",
   "pygments_lexer": "ipython3",
   "version": "3.10.9"
  }
 },
 "nbformat": 4,
 "nbformat_minor": 5
}
