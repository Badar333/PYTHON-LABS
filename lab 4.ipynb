{
 "cells": [
  {
   "cell_type": "markdown",
   "id": "6cf32211",
   "metadata": {},
   "source": [
    "# Task 1"
   ]
  },
  {
   "cell_type": "code",
   "execution_count": 1,
   "id": "52b3c69d",
   "metadata": {},
   "outputs": [
    {
     "name": "stdout",
     "output_type": "stream",
     "text": [
      "Enter The Base of Triangle:- 2\n",
      "Enter the Perpendicular of Triangle:- 3\n",
      "hypothenuse:-  3.605551275463989\n"
     ]
    }
   ],
   "source": [
    "base = float(input('Enter The Base of Triangle:- '))\n",
    "per = float(input('Enter the Perpendicular of Triangle:- '))\n",
    "def hypo(base, per):\n",
    "    form = base**2 + per**2\n",
    "    c = form**0.5\n",
    "    return c\n",
    "y = hypo(base, per)\n",
    "print('hypothenuse:- ', y)"
   ]
  },
  {
   "cell_type": "markdown",
   "id": "d475c97e",
   "metadata": {},
   "source": [
    "# Task 2"
   ]
  },
  {
   "cell_type": "code",
   "execution_count": null,
   "id": "319fff0b",
   "metadata": {},
   "outputs": [],
   "source": [
    "def distance():\n",
    "    First_Num  = float(input('Enter The First Number:-  '))\n",
    "    Second_Num  = float(input('Enter The Second Number:-  '))\n",
    "    Third_Num  = float(input('Enter The Third Number:-  '))\n",
    "    Fourth_Num  = float(input('Enter The Fourth Number:-  '))\n",
    "    \n",
    "    return ((First_Num -Third_Num)**2 + (Second_Num - Fourth_Num )**2)**0.5\n",
    "result = distance()\n",
    "print('The  Distance Between Two Points is:- ', result)"
   ]
  },
  {
   "cell_type": "markdown",
   "id": "4eebf73e",
   "metadata": {},
   "source": [
    "# Task 3"
   ]
  },
  {
   "cell_type": "code",
   "execution_count": null,
   "id": "2ec0b490",
   "metadata": {},
   "outputs": [],
   "source": [
    "user_input= int(input('Enter The Number Between 1 to 9999:-  '))\n",
    "if user_input >=1 and user_input <= 9999:\n",
    "    def reversed(user_input):\n",
    "        reverse_num = str(user_input)[::-1]\n",
    "        return reverse_num\n",
    "    result = reversed(user_input)\n",
    "    \n",
    "    print('Reversed of the number is :-  ',result)\n",
    "else:\n",
    "    print('Please Enter The Number Between 1 and 9999')"
   ]
  },
  {
   "cell_type": "markdown",
   "id": "44e75e74",
   "metadata": {},
   "source": [
    "# Task 4 "
   ]
  },
  {
   "cell_type": "code",
   "execution_count": null,
   "id": "8a1c5d14",
   "metadata": {},
   "outputs": [],
   "source": [
    "number = int(input('Enter The Number Weather it Prime or Not :  '))\n",
    "def prime(number):\n",
    "    if number % 1 == 0:\n",
    "        return False\n",
    "    else:\n",
    "        return True\n",
    "result = prime(number)\n",
    "print('It is a Prime Number :  ', result)"
   ]
  },
  {
   "cell_type": "markdown",
   "id": "6b3d99bc",
   "metadata": {},
   "source": [
    "# Task 5"
   ]
  },
  {
   "cell_type": "code",
   "execution_count": null,
   "id": "7fbdf81d",
   "metadata": {},
   "outputs": [],
   "source": [
    "Number = int(input('Enter The Quality Number : '))\n",
    "def CGPA(Number):\n",
    "    if Number >=90 and Number <= 100:\n",
    "        return f\"{Number} on the Point Scale is 4\"\n",
    "    elif Number >= 80 and Number <= 89:\n",
    "        return f\"{Number} on the Point Scale is 3\"\n",
    "    elif Number >= 70  and Number <= 79:\n",
    "        return f\"{Number} on the Point Scale is 2\"\n",
    "    elif Number >=60 and Number >= 69: \n",
    "        return f\"{Number} on the Point Scale is 1\"\n",
    "    elif Number <= 59 :\n",
    "        return f\"{Number} on the Point Scale is 0\"\n",
    "    else: \n",
    "        return (\"Enter The Number Between 1 to 100\")\n",
    "print(CGPA(Number))"
   ]
  },
  {
   "cell_type": "markdown",
   "id": "acc4ac2e",
   "metadata": {},
   "source": [
    "# Task 6"
   ]
  },
  {
   "cell_type": "code",
   "execution_count": null,
   "id": "c9138d0a",
   "metadata": {},
   "outputs": [],
   "source": [
    "number = int(input(\"Enter a four digit of number to find bouncy Number: \"))\n",
    "def is_bouncy(number):\n",
    "    Bouncy= str(number)\n",
    "    if Bouncy[:1] > Bouncy[1::]:\n",
    "        return True\n",
    "    else :\n",
    "        return False\n",
    "print(\"It is Bouncy Number:\",is_bouncy(number))"
   ]
  },
  {
   "cell_type": "markdown",
   "id": "5f2a1c2d",
   "metadata": {},
   "source": [
    "# Task 7"
   ]
  },
  {
   "cell_type": "code",
   "execution_count": null,
   "id": "fd7aba83",
   "metadata": {},
   "outputs": [],
   "source": [
    "Number = int(input(\"Enter an Integer to Find its Factors:  \"))\n",
    "def Factors(Number):\n",
    "    if Number < 1 :\n",
    "        return 0\n",
    "    count = 0\n",
    "    for i in range(1, Number + 1):\n",
    "        if Number % i == 0:\n",
    "            count += 1\n",
    "    return count\n",
    "\n",
    "Number = int(input(\"Enter an integer to find the number of its factors: \"))\n",
    "print(\"Number of factors:\", Factors(Number))"
   ]
  },
  {
   "cell_type": "markdown",
   "id": "f4784607",
   "metadata": {},
   "source": [
    "# Task 8"
   ]
  },
  {
   "cell_type": "code",
   "execution_count": null,
   "id": "b0276763",
   "metadata": {},
   "outputs": [],
   "source": [
    "def factorial(n):\n",
    "    if n == 0 or n == 1:\n",
    "        return 1\n",
    "    result = 1\n",
    "    for i in range(2, n + 1):\n",
    "        result *= i\n",
    "    return result\n",
    "\n",
    "n = int(input(\"Enter n: \"))\n",
    "k = int(input(\"Enter k: \"))\n",
    "def binom(n, k):\n",
    "    if k > n:\n",
    "        return 0\n",
    "    n = factorial(n)\n",
    "    k = factorial(k)\n",
    "    comb = factorial(n - k)\n",
    "    binomial_coff = n / (k * comb)\n",
    "    \n",
    "    return int(binomial_coff)\n",
    "\n",
    "print(f\"Binomial coefficient (n choose k) for n={n} and k={k} is:\", binom(n, k))"
   ]
  },
  {
   "cell_type": "markdown",
   "id": "a79bc7bc",
   "metadata": {},
   "source": [
    "# Task 9"
   ]
  },
  {
   "cell_type": "code",
   "execution_count": null,
   "id": "630382d6",
   "metadata": {},
   "outputs": [],
   "source": [
    "import random\n",
    "\n",
    "def guess_the_number():\n",
    "   \n",
    "    number_to_guess = random.randint(1, 1000)\n",
    "    \n",
    "    print(\"Guess the Number: \")\n",
    "    print(\"Selected a Number Between 1 and 1000:-  .\")\n",
    "    print(\"Try to Guess The Number:  \")\n",
    "\n",
    "    guess = None\n",
    "    \n",
    "    while guess != number_to_guess:\n",
    "        guess = int(input(\"Enter Your Guess: \"))\n",
    "            print(\"Too low. Try again.\")\n",
    "        elif guess > number_to_guess:\n",
    "            print(\"Too high. Try again.\")\n",
    "        else:\n",
    "            print(\"Congratulations! You guessed the number correctly.\")\n",
    "\n",
    "guess_the_number()\n"
   ]
  },
  {
   "cell_type": "markdown",
   "id": "d9d8404b",
   "metadata": {},
   "source": [
    "# Task 10"
   ]
  },
  {
   "cell_type": "code",
   "execution_count": null,
   "id": "78a0941c",
   "metadata": {},
   "outputs": [],
   "source": [
    "import random\n",
    "def guess_number():\n",
    "    guess_number = random.randint(1, 1000)\n",
    "    \n",
    "    print('Guess the number')\n",
    "    print('Select the number between 1 to 1000')\n",
    "    print('Try to Guess The Number')\n",
    "    \n",
    "    guess = None\n",
    "    \n",
    "    while guess != guess_"
   ]
  },
  {
   "cell_type": "markdown",
   "id": "9b220209",
   "metadata": {},
   "source": [
    "# Task 11"
   ]
  },
  {
   "cell_type": "code",
   "execution_count": null,
   "id": "096462e8",
   "metadata": {},
   "outputs": [],
   "source": [
    "import random\n",
    "\n",
    "def guess_the_number():\n",
    "    number_to_guess = random.randint(1, 1000)\n",
    "    \n",
    "    print(\"Welcome to the 'Guess the Number' game!\")\n",
    "    print(\"I have selected a number between 1 and 1000.\")\n",
    "    print(\"Try to guess the number. I will tell you if your guess is too high, too low, or correct.\")\n",
    "    \n",
    "    attempts = 0\n",
    "    \n",
    "    while True:\n",
    "        guess = int(input(\"Enter your guess: \"))\n",
    "        \n",
    "        attempts += 1\n",
    "        \n",
    "        if guess < number_to_guess:\n",
    "            print(\"Too low. Try again.\")\n",
    "        elif guess > number_to_guess:\n",
    "            print(\"Too high. Try again.\")\n",
    "        else:\n",
    "            print(f\"Congratulations! You guessed the number correctly in {attempts} attempts.\")\n",
    "            break\n",
    "\n",
    "guess_the_number()\n"
   ]
  },
  {
   "cell_type": "markdown",
   "id": "930a866f",
   "metadata": {},
   "source": [
    "# Task 12"
   ]
  },
  {
   "cell_type": "code",
   "execution_count": null,
   "id": "903a6cbb",
   "metadata": {},
   "outputs": [],
   "source": [
    "def perfect(number):\n",
    "    \n",
    "    sum_of_factors = 0\n",
    "    \n",
    "    for i in range(1, number):\n",
    "        if number % i == 0:\n",
    "            sum_of_factors += i\n",
    "            \n",
    "    return sum_of_factors == number\n",
    "\n",
    "print(\"Perfect numbers between 1 and 1000:\")\n",
    "for num in range(1, 1001):\n",
    "    if perfect(num):\n",
    "        print(num)\n"
   ]
  },
  {
   "cell_type": "markdown",
   "id": "f2f1ed83",
   "metadata": {},
   "source": [
    "# Task 13"
   ]
  },
  {
   "cell_type": "code",
   "execution_count": null,
   "id": "27ac36d0",
   "metadata": {},
   "outputs": [],
   "source": [
    "def int2binary(number):\n",
    "    if number == 0:\n",
    "        return '0'\n",
    "    \n",
    "    binary_digits = []\n",
    "    \n",
    "    while number > 0:\n",
    "        remainder = number % 2\n",
    "        binary_digits.append(remainder)\n",
    "        number = number // 2\n",
    "    binary_digits.reverse()\n",
    "    \n",
    "    binary_string = ''.join(map(str, binary_digits))\n",
    "    \n",
    "    return binary_string\n",
    "\n",
    "print(f\"{'Decimal':>7} {'Binary':>20}\")\n",
    "print(\"-\" * 27)\n",
    "for num in range(100, 1001):\n",
    "    binary_representation = int2binary(num)\n",
    "    print(f\"{num:>7} {binary_representation:>20}\")\n"
   ]
  },
  {
   "cell_type": "markdown",
   "id": "48de5363",
   "metadata": {},
   "source": [
    "# Task 14"
   ]
  },
  {
   "cell_type": "code",
   "execution_count": null,
   "id": "11de1466",
   "metadata": {},
   "outputs": [],
   "source": [
    "def root(x, n=2):\n",
    "   \n",
    "    return x ** (1 / n)\n",
    "\n",
    "print(\"The square root of 16 is:\", root(16))\n",
    "print(\"The cube root of 27 is:\", root(27, 3))\n",
    "print(\"The 4th root of 81 is:\", root(81, 4))\n"
   ]
  },
  {
   "cell_type": "markdown",
   "id": "b2ce18e4",
   "metadata": {},
   "source": [
    "# Task 15"
   ]
  },
  {
   "cell_type": "code",
   "execution_count": null,
   "id": "826a05b0",
   "metadata": {},
   "outputs": [],
   "source": [
    "import math\n",
    "\n",
    "def round_to_nearest_integer(numbers):\n",
    "    rounded_numbers = []\n",
    "    for x in numbers:\n",
    "        y = math.floor(x + 0.5)\n",
    "        rounded_numbers.append((x, y))\n",
    "    return rounded_numbers\n",
    "\n",
    "numbers = []\n",
    "print(\"Enter numbers to round (non-number to end):\")\n",
    "while True:\n",
    "    try:\n",
    "        num = float(input())\n",
    "        numbers.append(num)\n",
    "    except ValueError:\n",
    "        break\n",
    "results = round_to_nearest_integer(numbers)\n",
    "for original, rounded in results:\n",
    "    print(f\"Original number: {original}, Rounded number: {rounded}\")\n"
   ]
  },
  {
   "cell_type": "markdown",
   "id": "744d2726",
   "metadata": {},
   "source": [
    "# Task 16"
   ]
  },
  {
   "cell_type": "code",
   "execution_count": null,
   "id": "b85caae9",
   "metadata": {},
   "outputs": [],
   "source": [
    "import math\n",
    "\n",
    "def roundToInteger(number):\n",
    "    return math.floor(number + 0.5)\n",
    "\n",
    "def roundToTenths(number):\n",
    "    \n",
    "    return math.floor(number * 10 + 0.5) / 10\n",
    "\n",
    "def roundToHundredths(number):\n",
    "    return math.floor(number * 100 + 0.5) / 100\n",
    "\n",
    "def roundToThousandths(number):\n",
    "    \n",
    "    \n",
    "    return math.floor(number * 1000 + 0.5) / 1000\n",
    "\n",
    "numbers = []\n",
    "print(\"Enter numbers to round (non-number to end):\")\n",
    "while True:\n",
    "    try:\n",
    "        num = float(input())\n",
    "        numbers.append(num)\n",
    "    except ValueError:\n",
    "        break\n",
    "print(f\"{'Original':>10} {'Integer':>10} {'Tenths':>10} {'Hundredths':>12} {'Thousandths':>14}\")\n",
    "print(\"-\" * 56)\n",
    "for number in numbers:\n",
    "    rounded_integer = roundToInteger(number)\n",
    "    rounded_tenths = roundToTenths(number)\n",
    "    rounded_hundredths = roundToHundredths(number)\n",
    "    rounded_thousandths = roundToThousandths(number)\n",
    "    print(f\"{number:>10} {rounded_integer:>10} {rounded_tenths:>10} {rounded_hundredths:>12} {rounded_thousandths:>14}\")\n"
   ]
  },
  {
   "cell_type": "code",
   "execution_count": null,
   "id": "bb8d29b6",
   "metadata": {},
   "outputs": [],
   "source": []
  }
 ],
 "metadata": {
  "kernelspec": {
   "display_name": "Python 3 (ipykernel)",
   "language": "python",
   "name": "python3"
  },
  "language_info": {
   "codemirror_mode": {
    "name": "ipython",
    "version": 3
   },
   "file_extension": ".py",
   "mimetype": "text/x-python",
   "name": "python",
   "nbconvert_exporter": "python",
   "pygments_lexer": "ipython3",
   "version": "3.10.9"
  }
 },
 "nbformat": 4,
 "nbformat_minor": 5
}
