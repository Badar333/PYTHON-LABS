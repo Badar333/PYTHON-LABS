{
 "cells": [
  {
   "cell_type": "markdown",
   "id": "5f005009",
   "metadata": {},
   "source": [
    "OPERATORS"
   ]
  },
  {
   "cell_type": "code",
   "execution_count": 5,
   "id": "6b78dbf6",
   "metadata": {},
   "outputs": [
    {
     "name": "stdout",
     "output_type": "stream",
     "text": [
      "6\n"
     ]
    }
   ],
   "source": [
    "print(9-3)  "
   ]
  },
  {
   "cell_type": "code",
   "execution_count": 6,
   "id": "142279fe",
   "metadata": {},
   "outputs": [
    {
     "name": "stdout",
     "output_type": "stream",
     "text": [
      "20.0\n"
     ]
    }
   ],
   "source": [
    "print(8 * 2.5)"
   ]
  },
  {
   "cell_type": "code",
   "execution_count": 7,
   "id": "83209e5e",
   "metadata": {},
   "outputs": [
    {
     "name": "stdout",
     "output_type": "stream",
     "text": [
      "4.5\n"
     ]
    }
   ],
   "source": [
    "print(9 / 2)"
   ]
  },
  {
   "cell_type": "code",
   "execution_count": 8,
   "id": "69909721",
   "metadata": {},
   "outputs": [
    {
     "name": "stdout",
     "output_type": "stream",
     "text": [
      "-4.5\n"
     ]
    }
   ],
   "source": [
    "print(9 / -2)"
   ]
  },
  {
   "cell_type": "code",
   "execution_count": 9,
   "id": "45a70bcc",
   "metadata": {},
   "outputs": [
    {
     "name": "stdout",
     "output_type": "stream",
     "text": [
      "-5\n"
     ]
    }
   ],
   "source": [
    "print(9 // -2)"
   ]
  },
  {
   "cell_type": "code",
   "execution_count": 10,
   "id": "408791ed",
   "metadata": {},
   "outputs": [
    {
     "name": "stdout",
     "output_type": "stream",
     "text": [
      "1\n"
     ]
    }
   ],
   "source": [
    "print(9 % 2)"
   ]
  },
  {
   "cell_type": "code",
   "execution_count": 11,
   "id": "982ff5de",
   "metadata": {},
   "outputs": [
    {
     "name": "stdout",
     "output_type": "stream",
     "text": [
      "1.0\n"
     ]
    }
   ],
   "source": [
    "print(9.0 % 2)"
   ]
  },
  {
   "cell_type": "code",
   "execution_count": 12,
   "id": "b3f13e57",
   "metadata": {},
   "outputs": [
    {
     "name": "stdout",
     "output_type": "stream",
     "text": [
      "1.0\n"
     ]
    }
   ],
   "source": [
    "print(9 % 2.0)"
   ]
  },
  {
   "cell_type": "code",
   "execution_count": 13,
   "id": "858e3db0",
   "metadata": {},
   "outputs": [
    {
     "name": "stdout",
     "output_type": "stream",
     "text": [
      "-1\n"
     ]
    }
   ],
   "source": [
    "print(9 % -2)"
   ]
  },
  {
   "cell_type": "code",
   "execution_count": 14,
   "id": "a90fdb93",
   "metadata": {},
   "outputs": [
    {
     "name": "stdout",
     "output_type": "stream",
     "text": [
      "1\n"
     ]
    }
   ],
   "source": [
    "print(-9 % 2)"
   ]
  },
  {
   "cell_type": "code",
   "execution_count": 15,
   "id": "f0cccda6",
   "metadata": {},
   "outputs": [
    {
     "name": "stdout",
     "output_type": "stream",
     "text": [
      "-4.5\n"
     ]
    }
   ],
   "source": [
    "print(9 / -2.0)"
   ]
  },
  {
   "cell_type": "code",
   "execution_count": 16,
   "id": "1bdc252c",
   "metadata": {},
   "outputs": [
    {
     "name": "stdout",
     "output_type": "stream",
     "text": [
      "19\n"
     ]
    }
   ],
   "source": [
    "print(4 + 3 * 5)\n"
   ]
  },
  {
   "cell_type": "code",
   "execution_count": 17,
   "id": "7cb6a12e",
   "metadata": {},
   "outputs": [
    {
     "name": "stdout",
     "output_type": "stream",
     "text": [
      "35\n"
     ]
    }
   ],
   "source": [
    "print((4 + 3) * 5)"
   ]
  },
  {
   "cell_type": "markdown",
   "id": "40f16af0",
   "metadata": {},
   "source": [
    "VARIABLES\n"
   ]
  },
  {
   "cell_type": "markdown",
   "id": "1993cbf2",
   "metadata": {},
   "source": []
  },
  {
   "cell_type": "code",
   "execution_count": 21,
   "id": "7e10b1b2",
   "metadata": {},
   "outputs": [
    {
     "name": "stdout",
     "output_type": "stream",
     "text": [
      "72\n"
     ]
    }
   ],
   "source": [
    "length = 12\n",
    "width = 6\n",
    "area = length * width\n",
    "print(area)"
   ]
  },
  {
   "cell_type": "code",
   "execution_count": 33,
   "id": "d04f922c",
   "metadata": {},
   "outputs": [
    {
     "name": "stdout",
     "output_type": "stream",
     "text": [
      "7---14---21---28---35\n"
     ]
    }
   ],
   "source": [
    "x = 7 \n",
    "print(f\"{x}---{2*x}---{3*x}---{4*x}---{5*x}\")"
   ]
  },
  {
   "cell_type": "code",
   "execution_count": 35,
   "id": "6f15194c",
   "metadata": {},
   "outputs": [
    {
     "name": "stdout",
     "output_type": "stream",
     "text": [
      "Enter the first number:-6\n",
      "Enter the second number:-6\n",
      "The sum is :- 12\n"
     ]
    }
   ],
   "source": [
    "num1 = int(input('Enter the first number:-'))\n",
    "num2 = int(input('Enter the second number:-'))\n",
    "print('The sum is :-', num1 + num2)"
   ]
  },
  {
   "cell_type": "code",
   "execution_count": 36,
   "id": "78614595",
   "metadata": {},
   "outputs": [
    {
     "name": "stdout",
     "output_type": "stream",
     "text": [
      "Enter the first number:-1\n",
      "Enter the second number:-1\n",
      "The difference is :- 0\n"
     ]
    }
   ],
   "source": [
    "num1 = int(input('Enter the first number:-'))\n",
    "num2 = int(input('Enter the second number:-'))\n",
    "print('The difference is :-', num1 - num2)"
   ]
  },
  {
   "cell_type": "code",
   "execution_count": 37,
   "id": "78a354cd",
   "metadata": {},
   "outputs": [
    {
     "name": "stdout",
     "output_type": "stream",
     "text": [
      "Enter the first number:-2\n",
      "Enter the second number:-2\n",
      "The Quatient is :- 1.0\n"
     ]
    }
   ],
   "source": [
    "num1 = int(input('Enter the first number:-'))\n",
    "num2 = int(input('Enter the second number:-'))\n",
    "print('The Quatient is :-', num1 / num2)"
   ]
  },
  {
   "cell_type": "code",
   "execution_count": 39,
   "id": "4dc71386",
   "metadata": {},
   "outputs": [
    {
     "name": "stdout",
     "output_type": "stream",
     "text": [
      "Enter the first number:-3\n",
      "Enter the second number:-3\n",
      "The Product is :- 9\n"
     ]
    }
   ],
   "source": [
    "num1 = int(input('Enter the first number:-'))\n",
    "num2 = int(input('Enter the second number:-'))\n",
    "print('The Product is :-', num1 * num2)"
   ]
  },
  {
   "cell_type": "code",
   "execution_count": 40,
   "id": "ca31f3d5",
   "metadata": {},
   "outputs": [
    {
     "name": "stdout",
     "output_type": "stream",
     "text": [
      "Enter the first number:-3\n",
      "Enter the second number:-3\n",
      "The Mudulus is :- 0\n"
     ]
    }
   ],
   "source": [
    "num1 = int(input('Enter the first number:-'))\n",
    "num2 = int(input('Enter the second number:-'))\n",
    "\n",
    "print('The Mudulus is :-', num1 % num2)"
   ]
  },
  {
   "cell_type": "code",
   "execution_count": 43,
   "id": "deb6cd59",
   "metadata": {},
   "outputs": [
    {
     "name": "stdout",
     "output_type": "stream",
     "text": [
      "Input the radius: 6\n",
      "The Diameter is: 12.0\n",
      "The Circumference is: 37.699079999999995\n",
      "The Area is: 113.09723999999999\n"
     ]
    }
   ],
   "source": [
    "pi = 3.14159\n",
    "\n",
    "radius = float(input(\"Input the radius: \"))\n",
    "\n",
    "print(\"The Diameter is:\", 2 * radius)\n",
    "\n",
    "print(\"The Circumference is:\", 2 * pi * radius)\n",
    "\n",
    "print(\"The Area is:\", pi * radius * radius)"
   ]
  },
  {
   "cell_type": "code",
   "execution_count": 49,
   "id": "5c822a28",
   "metadata": {},
   "outputs": [
    {
     "name": "stdout",
     "output_type": "stream",
     "text": [
      "HHHHHH\n",
      " HHHHH\n",
      "  HHHH\n",
      "   HHH\n",
      "    HH\n",
      "     H\n"
     ]
    }
   ],
   "source": [
    "print('HHHHHH')\n",
    "print(' HHHHH')\n",
    "print('  HHHH')\n",
    "print('   HHH')\n",
    "print('    HH')\n",
    "print('     H')"
   ]
  },
  {
   "cell_type": "code",
   "execution_count": 63,
   "id": "d2f8d400",
   "metadata": {},
   "outputs": [
    {
     "name": "stdout",
     "output_type": "stream",
     "text": [
      "Enter The Number3\n",
      "You Enter Odd Number\n"
     ]
    }
   ],
   "source": [
    "number = int(input(\"Enter The Number\"))\n",
    "if number%2==0:\n",
    "    print('You Enter Even Number')\n",
    "else:\n",
    "    print('You Enter Odd Number')"
   ]
  },
  {
   "cell_type": "markdown",
   "id": "54201ca8",
   "metadata": {},
   "source": [
    "LAB TASKS"
   ]
  },
  {
   "cell_type": "code",
   "execution_count": 82,
   "id": "52af0ef7",
   "metadata": {},
   "outputs": [
    {
     "data": {
      "text/plain": [
       "-48"
      ]
     },
     "execution_count": 82,
     "metadata": {},
     "output_type": "execute_result"
    }
   ],
   "source": [
    "# first Question\n",
    "\n",
    "6 * -----------8"
   ]
  },
  {
   "cell_type": "code",
   "execution_count": 67,
   "id": "3c3a4851",
   "metadata": {},
   "outputs": [
    {
     "ename": "SyntaxError",
     "evalue": "cannot assign to literal here. Maybe you meant '==' instead of '='? (1049067674.py, line 1)",
     "output_type": "error",
     "traceback": [
      "\u001b[1;36m  Cell \u001b[1;32mIn[67], line 1\u001b[1;36m\u001b[0m\n\u001b[1;33m    8 = people\u001b[0m\n\u001b[1;37m    ^\u001b[0m\n\u001b[1;31mSyntaxError\u001b[0m\u001b[1;31m:\u001b[0m cannot assign to literal here. Maybe you meant '==' instead of '='?\n"
     ]
    }
   ],
   "source": [
    "8 = people"
   ]
  },
  {
   "cell_type": "code",
   "execution_count": 72,
   "id": "85d27ec0",
   "metadata": {},
   "outputs": [
    {
     "name": "stdout",
     "output_type": "stream",
     "text": [
      "8\n"
     ]
    }
   ],
   "source": [
    "# variabes name are not start from number\n",
    "people = 8\n",
    "print(people)"
   ]
  },
  {
   "cell_type": "code",
   "execution_count": 73,
   "id": "5d953d83",
   "metadata": {},
   "outputs": [
    {
     "data": {
      "text/plain": [
       "64"
      ]
     },
     "execution_count": 73,
     "metadata": {},
     "output_type": "execute_result"
    }
   ],
   "source": [
    "((((4 ** 3))))"
   ]
  },
  {
   "cell_type": "code",
   "execution_count": 74,
   "id": "061f2ea1",
   "metadata": {},
   "outputs": [
    {
     "data": {
      "text/plain": [
       "5"
      ]
     },
     "execution_count": 74,
     "metadata": {},
     "output_type": "execute_result"
    }
   ],
   "source": [
    "(-(-(-(-5))))"
   ]
  },
  {
   "cell_type": "code",
   "execution_count": 75,
   "id": "2876178a",
   "metadata": {},
   "outputs": [
    {
     "ename": "SyntaxError",
     "evalue": "'literal' is an illegal expression for augmented assignment (2059404682.py, line 1)",
     "output_type": "error",
     "traceback": [
      "\u001b[1;36m  Cell \u001b[1;32mIn[75], line 1\u001b[1;36m\u001b[0m\n\u001b[1;33m    4 += 7 / 2\u001b[0m\n\u001b[1;37m    ^\u001b[0m\n\u001b[1;31mSyntaxError\u001b[0m\u001b[1;31m:\u001b[0m 'literal' is an illegal expression for augmented assignment\n"
     ]
    }
   ],
   "source": [
    "4 += 7 / 2"
   ]
  },
  {
   "cell_type": "code",
   "execution_count": 81,
   "id": "26863cb9",
   "metadata": {},
   "outputs": [
    {
     "data": {
      "text/plain": [
       "True"
      ]
     },
     "execution_count": 81,
     "metadata": {},
     "output_type": "execute_result"
    }
   ],
   "source": [
    "# here we used assignment operators or add directaly\n",
    "4 >= 7 / 2"
   ]
  },
  {
   "cell_type": "code",
   "execution_count": 5,
   "id": "1a3a5ef1",
   "metadata": {},
   "outputs": [
    {
     "name": "stdout",
     "output_type": "stream",
     "text": [
      "Number Square Cube\n",
      "0        0     0\n",
      "1        1     1\n",
      "2        4     8\n",
      "3        9     27\n",
      "4        16     64\n",
      "5        25     125\n",
      "6        36     216\n",
      "7        49     343\n",
      "8        64     512\n",
      "9        81     729\n",
      "10        100     1000\n"
     ]
    }
   ],
   "source": [
    "# Second Question\n",
    "print(\"Number\", \"Square\", \"Cube\")\n",
    "for multi in range(11):  \n",
    "    one = multi *1\n",
    "    square = multi **2\n",
    "    cube = multi **3\n",
    "    print(one,\"      \", square,\"   \", cube)\n"
   ]
  },
  {
   "cell_type": "code",
   "execution_count": 3,
   "id": "b47aeac2",
   "metadata": {},
   "outputs": [
    {
     "name": "stdout",
     "output_type": "stream",
     "text": [
      "Enter the value of X:-  20\n",
      "Enter the value of Y:-  30\n",
      "Reverse of X is : 30\n",
      "Reverse of Y is: 20\n"
     ]
    }
   ],
   "source": [
    "# third question\n",
    "\n",
    "x =  int(input('Enter the value of X:-  '))\n",
    "y = int(input('Enter the value of Y:-  '))\n",
    "x = x + y\n",
    "y = x - y\n",
    "x = x - y\n",
    "print('Reverse of X is :', format(x))\n",
    "print('Reverse of Y is:', format(y))"
   ]
  },
  {
   "cell_type": "code",
   "execution_count": 1,
   "id": "366c2f68",
   "metadata": {},
   "outputs": [
    {
     "name": "stdout",
     "output_type": "stream",
     "text": [
      "Enter The Five Digit Number: 123456789\n",
      "Reverse of Enter Numbern is:  987654321\n"
     ]
    }
   ],
   "source": [
    "# 4th question\n",
    "number = int(input('Enter The Five Digit Number: '))\n",
    "reverse = 0\n",
    "while number > 0:\n",
    "    num1 = number % 10\n",
    "    reverse = reverse * 10 + num1\n",
    "    number = number//10\n",
    "print('Reverse of Enter Numbern is: ', reverse)\n",
    "    "
   ]
  },
  {
   "cell_type": "code",
   "execution_count": 6,
   "id": "d03b5248",
   "metadata": {},
   "outputs": [
    {
     "name": "stdout",
     "output_type": "stream",
     "text": [
      "\n",
      "********\n",
      "*      *\n",
      "*      *\n",
      "*      *\n",
      "********\n",
      " \n",
      "   **\n",
      " *    *\n",
      "*      *\n",
      " *    *\n",
      "   **\n",
      " \n",
      "    *\n",
      "   ***\n",
      "  *****\n",
      "    *   \n",
      "    *\n",
      "    *\n",
      "    *\n",
      " \n",
      "    *\n",
      "  *   *\n",
      " *     *\n",
      "  *   *\n",
      "    *\n",
      "\n"
     ]
    }
   ],
   "source": [
    "box = '''\n",
    "********\n",
    "*      *\n",
    "*      *\n",
    "*      *\n",
    "********\n",
    "'''\n",
    "oval = '''\n",
    "   **\n",
    " *    *\n",
    "*      *\n",
    " *    *\n",
    "   **\n",
    "'''\n",
    "arrow = '''\n",
    "    *\n",
    "   ***\n",
    "  *****\n",
    "    *   \n",
    "    *\n",
    "    *\n",
    "    *\n",
    "'''\n",
    "diamond = '''\n",
    "    *\n",
    "  *   *\n",
    " *     *\n",
    "  *   *\n",
    "    *\n",
    "'''\n",
    "print(box, oval,arrow, diamond)"
   ]
  },
  {
   "cell_type": "code",
   "execution_count": 29,
   "id": "20dd1958",
   "metadata": {},
   "outputs": [
    {
     "name": "stdout",
     "output_type": "stream",
     "text": [
      "Enter The First NoneZero Integer3\n",
      "Enter The Second Nonezero Integer4\n",
      "Enter The Third NoneZero Integer5\n",
      "The Three Integer Are The Side Of Triangle\n"
     ]
    }
   ],
   "source": [
    "# fifth quesrion\n",
    "\n",
    "a = int(input('Enter The First NoneZero Integer'))\n",
    "b = int(input('Enter The Second Nonezero Integer'))\n",
    "c = int(input(\"Enter The Third NoneZero Integer\"))\n",
    "if a > 0 and b > 0 and c > 0:\n",
    "    if a**2 + b**2 == c**2 or c**2 + b**2 == a**2 or a**2 + c**2 == b**2:\n",
    "        print('The Three Integer Are The Side Of Triangle')\n",
    "    else:\n",
    "        print('The Three Integer Are Not The Side Of Triangle')\n",
    "else:\n",
    "    print('ERROR Please Enter The Number Greater Than Zero')"
   ]
  },
  {
   "cell_type": "code",
   "execution_count": 11,
   "id": "73dfed4c",
   "metadata": {},
   "outputs": [
    {
     "name": "stdout",
     "output_type": "stream",
     "text": [
      "Enter a number between 0.0 to 1.0: 0.8\n",
      "Grade = B\n"
     ]
    }
   ],
   "source": [
    "# 6th question\n",
    "\n",
    "\n",
    "score = float(input(\"Enter a number between 0.0 to 1.0: \"))\n",
    "\n",
    "if 0.0 <= score <= 1.0:\n",
    "    if score >= 0.9:\n",
    "        print(\"Grade = A\")\n",
    "    elif 0.8 <= score < 0.9:\n",
    "        print(\"Grade = B\")\n",
    "    elif 0.7 <= score < 0.8:\n",
    "        print(\"Grade = C\")\n",
    "    elif 0.6 <= score < 0.7:\n",
    "        print(\"Grade = D\")\n",
    "    elif 0.0 <= score < 0.6:\n",
    "        print(\"Grade = F\")\n",
    "else:\n",
    "    print(\"Error Please Enter The Value Between 0.0 to 1.0\")"
   ]
  },
  {
   "cell_type": "code",
   "execution_count": 27,
   "id": "1dd31921",
   "metadata": {},
   "outputs": [
    {
     "name": "stdout",
     "output_type": "stream",
     "text": [
      "Enter the hours from 1 to 12:  4\n",
      "Select 1(am) or 2(pm):  1\n",
      "How many hours ahead:  8\n",
      "New Hour =  12 am\n"
     ]
    }
   ],
   "source": [
    "#Bonus: 1\n",
    "\n",
    "Hour =int(input(\"Enter the hours from 1 to 12:  \")) \n",
    "if Hour >= 1 and Hours <=12 :\n",
    "    pm_am =  int(input(\"Select 1(am) or 2(pm):  \"))\n",
    "    if pm_am == 1 :\n",
    "        new_hour= int(input(\"How many hours ahead:  \"))\n",
    "        new_hour += Hour\n",
    "        if new_hour > 12 :\n",
    "            print(\"New Hour = \", new_hour, \"pm\")\n",
    "        else:\n",
    "            print('New Hour = ', new_hour, \"am\")\n",
    "    elif pm_am == 2 :\n",
    "            new_hours = int(input(\"How many Hours ahead\"))\n",
    "            new_hours += Hours\n",
    "            if new_hours > 12 :\n",
    "                  print(\"New Hour = \", new_hour, \"pm\")\n",
    "            else:\n",
    "                  print(\"New Hour =\", new_hou, \"pm\")\n",
    "    else:\n",
    "        print(\"Please Select am or pm by 1 and 2\")\n",
    "else:\n",
    "    print(\"Please enter a number from 1 to 12\")"
   ]
  },
  {
   "cell_type": "code",
   "execution_count": 1,
   "id": "80e75a84",
   "metadata": {},
   "outputs": [
    {
     "name": "stdout",
     "output_type": "stream",
     "text": [
      "Enter a five digits number :11211\n",
      "11211 is a palindrome\n"
     ]
    }
   ],
   "source": [
    "#Bones: 2\n",
    "\n",
    "num = input(\"Enter a Five Digits Number :\")\n",
    "if len(num) == 5:\n",
    "    if num == num[::-1]:\n",
    "        print(num[::-1], \"is a palindrome\")\n",
    "    else:\n",
    "        print(num[::-1], \"is not a palindrome\")\n",
    "else:\n",
    "    print(\"Enter a five digits number\")"
   ]
  }
 ],
 "metadata": {
  "kernelspec": {
   "display_name": "Python 3 (ipykernel)",
   "language": "python",
   "name": "python3"
  },
  "language_info": {
   "codemirror_mode": {
    "name": "ipython",
    "version": 3
   },
   "file_extension": ".py",
   "mimetype": "text/x-python",
   "name": "python",
   "nbconvert_exporter": "python",
   "pygments_lexer": "ipython3",
   "version": "3.10.9"
  }
 },
 "nbformat": 4,
 "nbformat_minor": 5
}
