{
 "cells": [
  {
   "cell_type": "markdown",
   "id": "f23a57bb",
   "metadata": {},
   "source": [
    "DSAI LAB 3"
   ]
  },
  {
   "cell_type": "code",
   "execution_count": 5,
   "id": "56417143",
   "metadata": {},
   "outputs": [
    {
     "name": "stdout",
     "output_type": "stream",
     "text": [
      "Enter a number of values to be input: 12\n",
      "Enter a number: 23\n",
      "Enter a number: 34\n",
      "Enter a number: 45\n",
      "Enter a number: 56\n",
      "Enter a number: 67\n",
      "Enter a number: 78\n",
      "Enter a number: 89\n",
      "Enter a number: 12\n",
      "Enter a number: 12\n",
      "Enter a number: 23\n",
      "Enter a number: 1\n",
      "Enter a number: 23\n",
      "Sum of Entered Value =  463\n",
      "The smallest Number is:  1\n"
     ]
    }
   ],
   "source": [
    "Num = int(input(\"Enter a number of values to be input: \"))\n",
    "summ = 0\n",
    "Number= []\n",
    "if Num > 0 :\n",
    "    for values in range(Num):\n",
    "        values = int(input(\"Enter a number: \"))\n",
    "        Number.append(values)\n",
    "        summ+= values\n",
    "    smallest_num = min(Number)\n",
    "    print(\"Sum of Entered Value = \",summ)\n",
    "    print(\"The smallest Number is: \",smallest_num)\n",
    "else:\n",
    "    print(\"Error! Please Enter a positive number greater then 0:\")"
   ]
  },
  {
   "cell_type": "code",
   "execution_count": 3,
   "id": "8fd5ab3c",
   "metadata": {},
   "outputs": [
    {
     "name": "stdout",
     "output_type": "stream",
     "text": [
      "x \tfactorial 0f x\n",
      "1 \t 1\n",
      "2 \t 2\n",
      "3 \t 6\n",
      "4 \t 24\n",
      "5 \t 120\n"
     ]
    }
   ],
   "source": [
    "# Task 2\n",
    "a=1\n",
    "print(\"x\", \"\\tfactorial 0f x\")\n",
    "for i in range(1,6):\n",
    "    a*= i\n",
    "    print(i,\"\\t\",a)"
   ]
  },
  {
   "cell_type": "code",
   "execution_count": 4,
   "id": "ccc5e3f0",
   "metadata": {},
   "outputs": [
    {
     "name": "stdout",
     "output_type": "stream",
     "text": [
      "x factorial 0f x\n",
      "2 \t 4\n",
      "3 \t 12\n",
      "4 \t 48\n",
      "5 \t 240\n",
      "6 \t 1440\n",
      "7 \t 10080\n",
      "8 \t 80640\n",
      "9 \t 725760\n",
      "10 \t 7257600\n"
     ]
    }
   ],
   "source": [
    "fact=2\n",
    "print(\"x\", \"factorial 0f x\")\n",
    "for i in range(2,11):\n",
    "    fact*= i\n",
    "    print(i,\"\\t\",fact)"
   ]
  },
  {
   "cell_type": "code",
   "execution_count": 6,
   "id": "693b1aa3",
   "metadata": {},
   "outputs": [
    {
     "name": "stdout",
     "output_type": "stream",
     "text": [
      "i have choosen number a number between 1 to 10. Try to guess it \n",
      "Remember you have five chances\n",
      "You Guess: 2\n",
      "Enter a Number in Range\n",
      "You Guess: 4\n",
      "You Won Your Guess is Right\n"
     ]
    }
   ],
   "source": [
    "# Task 3\n",
    "\n",
    "import random\n",
    "guess_number = random.randint(1, 11)\n",
    "print('i Have Choosen Number a Between 1 to 10. Try to Guess it ')\n",
    "print('Remember You Have Five Chances')\n",
    "for n in range(6):\n",
    "    num1 = int(input('You Guess: '))\n",
    "    if num1 == guess_number:\n",
    "        print('You Won Your Guess is Right')\n",
    "        break\n",
    "    elif num1 > guess_number or num1 < guess_number:\n",
    "        if num1 > 0 and num1 > 11:\n",
    "            print('Your Guess is Wrong! Guess Again')\n",
    "        else:\n",
    "            print('Enter a Number in Range')\n",
    "else:\n",
    "    print('You Loss try Again ')"
   ]
  },
  {
   "cell_type": "code",
   "execution_count": 13,
   "id": "b59b11e4",
   "metadata": {},
   "outputs": [
    {
     "name": "stdout",
     "output_type": "stream",
     "text": [
      "The gcd of 20 and 10 is: <function gcd at 0x000002952ED6F250>\n"
     ]
    }
   ],
   "source": [
    "# Task Task 4\n",
    "def gcd(a, b):\n",
    "    while b != 0:\n",
    "        a, b = b, a % b\n",
    "    return a\n",
    "num1 = 20\n",
    "num2 = 10\n",
    "\n",
    "gcd_ = gcd(num1, num2)\n",
    "print(\"The gcd of\", num1, \"and\", num2, \"is:\", gcd)"
   ]
  },
  {
   "cell_type": "code",
   "execution_count": 15,
   "id": "11eb3735",
   "metadata": {},
   "outputs": [
    {
     "name": "stdout",
     "output_type": "stream",
     "text": [
      "21  22  24  25  26  29  30  32  34  36  37  40  41  42  44  46  49  50  52  54  56  60  61  62  64  65  70  72  74  76  77  82  84  85  86  89  90  92  96  97  100  102  104  106  109  110  112  114  116  120  121  124  125  126  130  132  134  137  140  142  144  145  146  149  152  154  160  161  162  166  169  170  172  176  180  181  182  184  186  190  194  196  197  200  202  204  205  209  212  214  216  217  221  222  224  226  229  230  232  236  240  242  244  250  252  254  257  260  265  266  270  272  274  277  280  281  284  286  292  294  296  301  302  305  306  310  312  314  316  317  320  324  326  329  330  334  337  340  341  342  349  350  352  356  361  362  364  365  370  376  380  382  384  385  386  389  392  394  396  397  400  401  404  412  414  420  422  424  425  434  436  440  442  446  449  450  452  456  457  460  461  464  466  469  470  474  481  482  485  490  492  494  496\n"
     ]
    }
   ],
   "source": [
    "# Task 5\n",
    "\n",
    "def prime(number):\n",
    "    if number < 21:\n",
    "        return False\n",
    "    for divisor in range(2, int(number ** 0.4) +3):\n",
    "        if number % divisor == 3:\n",
    "            return False\n",
    "        \n",
    "    return True\n",
    " \n",
    "prime_number = []\n",
    "for number in range(1,500):\n",
    "    if prime(number):\n",
    "        prime_number.append(str(number))\n",
    "        \n",
    "print('  '.join(prime_number))\n",
    "    \n"
   ]
  },
  {
   "cell_type": "code",
   "execution_count": 21,
   "id": "cac7847b",
   "metadata": {},
   "outputs": [
    {
     "name": "stdout",
     "output_type": "stream",
     "text": [
      "1634\n",
      "8208\n",
      "9474\n"
     ]
    }
   ],
   "source": [
    "# Task 6\n",
    "\n",
    "for number in range(1000, 10000):\n",
    "    digit1 = number // 1000\n",
    "    digit2 = (number // 100) % 10\n",
    "    digit3 = (number // 10) % 10\n",
    "    digit4 = number % 10\n",
    "\n",
    "    if number == (digit1**4 + digit2**4 + digit3**4 + digit4**4):\n",
    "        print(number)\n",
    "    "
   ]
  },
  {
   "cell_type": "code",
   "execution_count": 22,
   "id": "fc1d9fda",
   "metadata": {},
   "outputs": [
    {
     "name": "stdout",
     "output_type": "stream",
     "text": [
      "1 I am a Data Scientist\n",
      "3 I am a Data Scientist\n",
      "5 I am a Data Scientist\n",
      "7 I am a Data Scientist\n",
      "9 I am a Data Scientist\n",
      "11 I am a Data Scientist\n",
      "13 I am a Data Scientist\n",
      "15 I am a Data Scientist\n",
      "17 I am a Data Scientist\n",
      "19 I am a Data Scientist\n"
     ]
    }
   ],
   "source": [
    "# Task 7\n",
    "\n",
    "for num in range(1, 20, 2):\n",
    "    print(num , 'I am a Data Scientist')"
   ]
  },
  {
   "cell_type": "code",
   "execution_count": 23,
   "id": "b961a123",
   "metadata": {},
   "outputs": [
    {
     "name": "stdout",
     "output_type": "stream",
     "text": [
      "0 * 0\n",
      "1 * 1\n",
      "2 * 4\n",
      "3 * 9\n",
      "4 * 16\n",
      "5 * 25\n",
      "6 * 36\n",
      "7 * 49\n",
      "8 * 64\n",
      "9 * 81\n",
      "10 * 100\n"
     ]
    }
   ],
   "source": [
    "# Task 8\n",
    "for num in range(11):\n",
    "    print(num, '*', num**2)"
   ]
  },
  {
   "cell_type": "code",
   "execution_count": 25,
   "id": "4b17d242",
   "metadata": {},
   "outputs": [
    {
     "name": "stdout",
     "output_type": "stream",
     "text": [
      "0\n",
      "3\n",
      "6\n",
      "9\n",
      "12\n",
      "15\n",
      "18\n"
     ]
    }
   ],
   "source": [
    "# Task 9\n",
    "\n",
    "array = []\n",
    "for num in range(0, 20, 3):\n",
    "    array.append(str(num))\n",
    "    print(num)    "
   ]
  },
  {
   "cell_type": "code",
   "execution_count": 31,
   "id": "910a9acf",
   "metadata": {},
   "outputs": [
    {
     "name": "stdout",
     "output_type": "stream",
     "text": [
      "1\n",
      "1 4\n",
      "1 4 7\n",
      "1 4 7 10\n",
      "1 4 7 10 13\n",
      "1 4 7 10 13 16\n",
      "1 4 7 10 13 16 19\n"
     ]
    }
   ],
   "source": [
    "# Task 10\n",
    "\n",
    "array = []\n",
    "for num in range(1, 20, 3):\n",
    "    array.append(str(num))\n",
    "    print(' '.join(array))"
   ]
  },
  {
   "cell_type": "code",
   "execution_count": 32,
   "id": "b4c291b1",
   "metadata": {},
   "outputs": [
    {
     "name": "stdout",
     "output_type": "stream",
     "text": [
      "1 4 7 10 13 16 19 22 25 28 31 34 37 40 43 46 49 52 55 58 61 64 67 70 73 76 79 82 85 88\n"
     ]
    }
   ],
   "source": [
    "array =  []\n",
    "for num in range(1, 90, 3):\n",
    "    array.append(str(num))\n",
    "print(' '.join(array))"
   ]
  },
  {
   "cell_type": "code",
   "execution_count": 33,
   "id": "dfc2cb1e",
   "metadata": {},
   "outputs": [
    {
     "name": "stdout",
     "output_type": "stream",
     "text": [
      "['1', '7', '13', '19', '25', '31', '37', '43', '49', '55', '61', '67', '73', '79', '85', '91', '97']\n"
     ]
    }
   ],
   "source": [
    "array = []\n",
    "for num in range(1, 100, 6):\n",
    "    array.append(str(num))\n",
    "print(array)"
   ]
  },
  {
   "cell_type": "code",
   "execution_count": 37,
   "id": "e20df62c",
   "metadata": {},
   "outputs": [
    {
     "name": "stdout",
     "output_type": "stream",
     "text": [
      "Enter Your NameI am a data scientist and SEO expert\n",
      "How Many Times You Want to Print7\n",
      "I am a data scientist and SEO expert\n",
      "I am a data scientist and SEO expert\n",
      "I am a data scientist and SEO expert\n",
      "I am a data scientist and SEO expert\n",
      "I am a data scientist and SEO expert\n",
      "I am a data scientist and SEO expert\n",
      "I am a data scientist and SEO expert\n"
     ]
    }
   ],
   "source": [
    "# Task 10 \n",
    "\n",
    "Name = input('Enter Your Name')\n",
    "Times = int(input('How Many Times You Want to Print'))\n",
    "for i in range(Times):\n",
    "    print(Name)"
   ]
  },
  {
   "cell_type": "code",
   "execution_count": 73,
   "id": "3758a193",
   "metadata": {},
   "outputs": [
    {
     "name": "stdout",
     "output_type": "stream",
     "text": [
      "Enter the width of box: 20\n",
      "Enter the height of box: 4\n",
      "********************\n",
      "********************\n",
      "********************\n",
      "********************\n"
     ]
    }
   ],
   "source": [
    "# Task 11\n",
    "width = int(input('Enter the width of box: '))\n",
    "height = int(input('Enter the height of box: '))\n",
    "for i in range(height):\n",
    "    if i == 0 or i == height -1:\n",
    "        print('*' * width)\n",
    "    else:\n",
    "        print('*' + '*' * (width - 2) + \"*\")"
   ]
  },
  {
   "cell_type": "code",
   "execution_count": 60,
   "id": "a46b2acb",
   "metadata": {},
   "outputs": [
    {
     "name": "stdout",
     "output_type": "stream",
     "text": [
      "Enter the height: 5\n",
      "\n",
      "*\n",
      "**\n",
      "***\n",
      "****\n",
      "*****\n"
     ]
    }
   ],
   "source": [
    "# Task 12\n",
    "\n",
    "height= int(input(\"Enter the height: \"))\n",
    "for i in range(height+1):\n",
    "    print(\"*\"*i)"
   ]
  },
  {
   "cell_type": "code",
   "execution_count": 54,
   "id": "01ec73fd",
   "metadata": {},
   "outputs": [
    {
     "name": "stdout",
     "output_type": "stream",
     "text": [
      "Enter the height of the Diamond: 5\n",
      "    *\n",
      "   ***\n",
      "  *****\n",
      " *******\n",
      "*********\n",
      " *******\n",
      "  *****\n",
      "   ***\n",
      "    *\n"
     ]
    }
   ],
   "source": [
    "# Task 13\n",
    "\n",
    "height = int(input(\"Enter the height of the Diamond: \"))\n",
    "\n",
    "for i in range(1,height+1):\n",
    "        print(\" \" * (height - i) + \"*\" * (2*i-1))\n",
    "for i in range(height-1,0,-1):\n",
    "        print(\" \" * (height - i) + \"*\" * (2*i-1))"
   ]
  },
  {
   "cell_type": "code",
   "execution_count": 58,
   "id": "559c001e",
   "metadata": {},
   "outputs": [
    {
     "name": "stdout",
     "output_type": "stream",
     "text": [
      "Enter The Height For Line A : 10\n",
      "          *\n",
      "        *  *\n",
      "       *    *\n",
      "      *      *\n",
      "     *        *\n",
      "    ************\n",
      "   *            *\n",
      "  *              *\n",
      " *                *\n",
      "*                  *\n"
     ]
    }
   ],
   "source": [
    "# Task 14\n",
    "\n",
    "lines = int(input('Enter The Height For Line A : '))\n",
    "def print_alphabet_pattern(lines):\n",
    "     for a in range(lines):\n",
    "        if a == 0:\n",
    "            print((lines - a) * ' ' + 1 * '*')\n",
    "        \n",
    "        elif a == lines // 2:\n",
    "            print((lines - a - 1) * ' ' + 1 * '*' + 2 * '*' * (a) + 1 * '*')\n",
    "        else:\n",
    "            print((lines - a - 1) * ' ' + 1 * '*' + 2 * ' ' * (a) + 1 * '*')\n",
    "\n",
    "print_alphabet_pattern(lines)\n",
    "   "
   ]
  },
  {
   "cell_type": "code",
   "execution_count": 69,
   "id": "63ef6cf1",
   "metadata": {},
   "outputs": [
    {
     "name": "stdout",
     "output_type": "stream",
     "text": [
      "5 * 0 = 0\n",
      "5 * 1 = 5\n",
      "5 * 2 = 10\n",
      "5 * 3 = 15\n",
      "5 * 4 = 20\n",
      "5 * 5 = 25\n",
      "5 * 6 = 30\n",
      "5 * 7 = 35\n",
      "5 * 8 = 40\n",
      "5 * 9 = 45\n",
      "5 * 10 = 50\n"
     ]
    }
   ],
   "source": [
    "for n in range(11):\n",
    "     print(\"5 *\", n, \"=\", 5*n)\n",
    "    "
   ]
  },
  {
   "cell_type": "code",
   "execution_count": 70,
   "id": "e592ca10",
   "metadata": {},
   "outputs": [
    {
     "name": "stdout",
     "output_type": "stream",
     "text": [
      "9 * 0 = 0\n",
      "9 * 1 = 9\n",
      "9 * 2 = 18\n",
      "9 * 3 = 27\n",
      "9 * 4 = 36\n",
      "9 * 5 = 45\n",
      "9 * 6 = 54\n",
      "9 * 7 = 63\n",
      "9 * 8 = 72\n",
      "9 * 9 = 81\n",
      "9 * 10 = 90\n"
     ]
    }
   ],
   "source": [
    "for n in range(11):\n",
    "     print(\"9 *\", n, \"=\", 9*n)"
   ]
  },
  {
   "cell_type": "code",
   "execution_count": null,
   "id": "6e632b69",
   "metadata": {},
   "outputs": [],
   "source": []
  }
 ],
 "metadata": {
  "kernelspec": {
   "display_name": "Python 3 (ipykernel)",
   "language": "python",
   "name": "python3"
  },
  "language_info": {
   "codemirror_mode": {
    "name": "ipython",
    "version": 3
   },
   "file_extension": ".py",
   "mimetype": "text/x-python",
   "name": "python",
   "nbconvert_exporter": "python",
   "pygments_lexer": "ipython3",
   "version": "3.10.9"
  }
 },
 "nbformat": 4,
 "nbformat_minor": 5
}
