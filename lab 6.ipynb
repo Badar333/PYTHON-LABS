{
 "cells": [
  {
   "cell_type": "markdown",
   "id": "8defe10d-ceb5-40e7-a3a1-b0074d2a1867",
   "metadata": {},
   "source": [
    "# Class and Object\n",
    "### Class is a blueprint for creating object"
   ]
  },
  {
   "cell_type": "code",
   "execution_count": 9,
   "id": "21cc9ce0-e7d6-4a24-905d-8013bcd83406",
   "metadata": {},
   "outputs": [
    {
     "name": "stdout",
     "output_type": "stream",
     "text": [
      "Rahim 12 18\n"
     ]
    }
   ],
   "source": [
    "class Student():\n",
    "    name = 'Rahim'\n",
    "    clss = 12\n",
    "    age = 18\n",
    "\n",
    "obj = Student()\n",
    "print(obj.name, obj.clss, obj.age)"
   ]
  },
  {
   "cell_type": "code",
   "execution_count": 11,
   "id": "d6ddff9f-60ea-43ae-a871-74e748f5ef8b",
   "metadata": {},
   "outputs": [
    {
     "name": "stdout",
     "output_type": "stream",
     "text": [
      "Blue\n",
      "Tesla\n"
     ]
    }
   ],
   "source": [
    "class Car():\n",
    "    car = 'Blue'\n",
    "    model = 'Tesla'\n",
    "\n",
    "object = Car()\n",
    "print(object.car)\n",
    "print(object.model)"
   ]
  },
  {
   "cell_type": "markdown",
   "id": "74efde73-6660-47a1-a5ef-faa4756c1519",
   "metadata": {},
   "source": [
    "# Constructor \n",
    "### A Constructor is always excutited when class is initialized"
   ]
  },
  {
   "cell_type": "code",
   "execution_count": 23,
   "id": "88f7f05d-e26f-4e92-9a5a-44def10b746d",
   "metadata": {},
   "outputs": [
    {
     "name": "stdout",
     "output_type": "stream",
     "text": [
      "Adding new student in the databse\n",
      "Ehtijad Kings College Gilgit\n",
      "Adding new student in the databse\n",
      "Saima Jahangir AKHSS\n",
      "Adding new student in the databse\n",
      "Saaim AKHSS\n"
     ]
    }
   ],
   "source": [
    "class Student():\n",
    "    def __init__(self, name, school):\n",
    "        self.name = name\n",
    "        self.school = school\n",
    "        \n",
    "        print('Adding new student in the databse')\n",
    "   \n",
    "\n",
    "obj = Student('Ehtijad','Kings College Gilgit')\n",
    "print(obj.name, obj.school)\n",
    "\n",
    "obj_2 = Student('Saima Jahangir', 'AKHSS')\n",
    "print(obj_2.name, obj_2.school)\n",
    "\n",
    "obj_3 = Student('Saaim', 'AKHSS')\n",
    "print(obj_3.name, obj_3.school)"
   ]
  },
  {
   "cell_type": "markdown",
   "id": "35cbfa12-56d8-4eec-9de8-35fd4f5b515f",
   "metadata": {},
   "source": [
    "# Class And Object Attribute"
   ]
  },
  {
   "cell_type": "code",
   "execution_count": 28,
   "id": "7240f55b-1e2a-4803-9b20-a05d442b1eae",
   "metadata": {},
   "outputs": [
    {
     "name": "stdout",
     "output_type": "stream",
     "text": [
      "Adding new student in the databse\n",
      "Ehtijad Kings College Gilgit\n"
     ]
    }
   ],
   "source": [
    "class Student():\n",
    "    # Class Attribute\n",
    "    collage_name = 'ABC COLLEGE' \n",
    "    name = 'Saaim'   \n",
    "    def __init__(self, name, school):\n",
    "        # Object Attribute\n",
    "        self.name = name\n",
    "        self.school = school\n",
    "        \n",
    "        print('Adding new student in the databse')\n",
    "   \n",
    "\n",
    "obj = Student('Ehtijad',  'Kings College Gilgit')\n",
    "print(obj.name, obj.school)\n"
   ]
  },
  {
   "cell_type": "code",
   "execution_count": 38,
   "id": "3deaa7f6-33e9-4bb8-8442-1394fe75078e",
   "metadata": {},
   "outputs": [
    {
     "name": "stdout",
     "output_type": "stream",
     "text": [
      "Diamond Jubilee High School Thoi Harp\n",
      "Full_Name      Age        Class\n",
      "Ehtijad        18         12\n"
     ]
    }
   ],
   "source": [
    "class School:\n",
    "    print('Diamond Jubilee High School Thoi Harp')\n",
    "    def students(self, fullname, age, clss):\n",
    "        self.fullname = fullname\n",
    "        self.age = age\n",
    "        self.clss = clss\n",
    "\n",
    "x = School()\n",
    "x.students('Ehtijad', 18, 12)\n",
    "print('Full_Name',    '     Age', '       Class')\n",
    "print(x.fullname,'      ',x.age, '       ',x.clss)"
   ]
  },
  {
   "cell_type": "markdown",
   "id": "91d6134c-693c-4af3-986d-c0db547f0391",
   "metadata": {},
   "source": [
    "# Method\n",
    "### Methods are function that belong to object"
   ]
  },
  {
   "cell_type": "code",
   "execution_count": 37,
   "id": "cc5320a4-2179-43bd-aedd-c7cd6dc92beb",
   "metadata": {},
   "outputs": [
    {
     "name": "stdout",
     "output_type": "stream",
     "text": [
      "Welcome student Saima\n",
      "83\n"
     ]
    }
   ],
   "source": [
    "class Students():\n",
    "    def __init__(self , name, marks):\n",
    "        self.name = name\n",
    "        self.marks = marks\n",
    "\n",
    "    def Welcome(self):\n",
    "        print('Welcome student', self.name)\n",
    "\n",
    "    def get_marks(self):\n",
    "        return self.marks\n",
    "\n",
    "mth = Students('Saima',83)\n",
    "mth.Welcome()\n",
    "print(mth.get_marks())"
   ]
  },
  {
   "cell_type": "markdown",
   "id": "408c258f-163c-4ca0-aa57-7366213c9a88",
   "metadata": {},
   "source": [
    "# Abstraction\n",
    "\n",
    "### Hiding the inplementation details of the class and only showing the essential features to the user"
   ]
  },
  {
   "cell_type": "code",
   "execution_count": 43,
   "id": "d9ce5932-65dc-4f05-8255-c460c2cbf485",
   "metadata": {},
   "outputs": [
    {
     "name": "stdout",
     "output_type": "stream",
     "text": [
      "Car Started\n"
     ]
    }
   ],
   "source": [
    "class Car:\n",
    "    def __init__(self):\n",
    "        self.accelator = False\n",
    "        self.clutch = False\n",
    "        self.brk = False\n",
    "    def start(self, acceletor, clutch):\n",
    "        self.accelator = True\n",
    "        self.clutch = True\n",
    "        print('Car Started')\n",
    "x = Car()\n",
    "x.start(True, True)"
   ]
  },
  {
   "cell_type": "markdown",
   "id": "a0154a87-8298-4307-8ddd-0201094b11ff",
   "metadata": {},
   "source": [
    "# Encapsulation\n",
    "\n",
    "### Wrapping data and functions into a single unit(object)"
   ]
  },
  {
   "cell_type": "code",
   "execution_count": 47,
   "id": "48269fad-0dab-4d34-89a4-0db62b9e8a78",
   "metadata": {},
   "outputs": [
    {
     "name": "stdout",
     "output_type": "stream",
     "text": [
      "RS 500 is Deposit To The Account\n",
      "Total Balance =  20500\n",
      "\n",
      "RS 20300 is Withdraw From The Account\n",
      "Total Balance =  20300\n",
      "\n",
      "20300\n"
     ]
    }
   ],
   "source": [
    "class Account:\n",
    "    def __init__(self, balance ,acc):\n",
    "        self.acc = acc\n",
    "        self.balance = balance\n",
    "    def deposit(self, amount):\n",
    "        self.balance += amount\n",
    "        print('RS', amount, 'is Deposit To The Account')\n",
    "        print('Total Balance = ', self.get_balance())\n",
    "        print()\n",
    "    def withdraw(self, amount):\n",
    "        self.balance -= amount\n",
    "        print('RS', self.balance, 'is Withdraw From The Account')\n",
    "        print('Total Balance = ', self.get_balance())\n",
    "        print()\n",
    "    def get_balance(self):\n",
    "        return self.balance\n",
    "\n",
    "x = Account(20000, 122314)\n",
    "x.deposit(500)\n",
    "x.withdraw(200)\n",
    "print(x.get_balance())"
   ]
  },
  {
   "cell_type": "markdown",
   "id": "78d1c332-9132-4c4d-90a9-ec086e767315",
   "metadata": {},
   "source": [
    "# Inheritance\n",
    "\n",
    "### When one class derives the properties and method of other class."
   ]
  },
  {
   "cell_type": "code",
   "execution_count": 60,
   "id": "4537d9d1-e2bc-45d4-b855-0e8eff4535da",
   "metadata": {},
   "outputs": [
    {
     "name": "stdout",
     "output_type": "stream",
     "text": [
      "Fortuner\n",
      "Chorola\n",
      "Cat Started\n",
      "None\n"
     ]
    }
   ],
   "source": [
    "class Car():\n",
    "\n",
    "    color = 'Black'\n",
    "    @staticmethod\n",
    "    def start():\n",
    "        print('Cat Started')\n",
    "\n",
    "    @staticmethod\n",
    "    def stop():\n",
    "        print('Car Stopped')\n",
    "\n",
    "class ToyotaCar(Car):\n",
    "    def __init__(self, name):\n",
    "        self.name = name\n",
    "        \n",
    "car_1 = ToyotaCar('Fortuner')\n",
    "car_2 = ToyotaCar('Chorola')\n",
    "\n",
    "print(car_1.name)\n",
    "print(car_2.name)\n",
    "print(car_1.start())"
   ]
  },
  {
   "cell_type": "markdown",
   "id": "ae179cc2-0b94-422f-b7df-d908d5435979",
   "metadata": {},
   "source": [
    "# Multi_Level Inheritance"
   ]
  },
  {
   "cell_type": "code",
   "execution_count": 62,
   "id": "264d0596-13e0-4724-975a-7aca4985faad",
   "metadata": {},
   "outputs": [
    {
     "name": "stdout",
     "output_type": "stream",
     "text": [
      "Cat Started\n"
     ]
    }
   ],
   "source": [
    "class Car():\n",
    "\n",
    "    color = 'Black'\n",
    "    @staticmethod\n",
    "    def start():\n",
    "        print('Cat Started')\n",
    "\n",
    "    @staticmethod\n",
    "    def stop():\n",
    "        print('Car Stopped')\n",
    "\n",
    "class ToyotaCar(Car):\n",
    "    def __init__(self, brand):\n",
    "        self.brand = brand\n",
    "\n",
    "class Fortuner(ToyotaCar):\n",
    "    def __init__(self, type):\n",
    "        self.type = type\n",
    "\n",
    "car_type = Fortuner('diesel')\n",
    "car_type.start()\n",
    "    "
   ]
  },
  {
   "cell_type": "markdown",
   "id": "6c0ba409-879e-4536-a9aa-ca1dc444662d",
   "metadata": {},
   "source": [
    "# Multiple Inheritance"
   ]
  },
  {
   "cell_type": "code",
   "execution_count": 63,
   "id": "836e58bf-d983-4e83-99d8-7fef2032016a",
   "metadata": {},
   "outputs": [
    {
     "name": "stdout",
     "output_type": "stream",
     "text": [
      "Welcome to class A\n",
      "Welcome to class B\n",
      "Welcome to class C\n"
     ]
    }
   ],
   "source": [
    "class A():\n",
    "    Var_A = 'Welcome to class A'\n",
    "\n",
    "class B():\n",
    "    Var_B = 'Welcome to class B'\n",
    "\n",
    "class C(A, B):\n",
    "    Var_C = 'Welcome to class C'\n",
    "\n",
    "c1 = C()\n",
    "print(c1.Var_A)\n",
    "print(c1.Var_B)\n",
    "print(c1.Var_C)"
   ]
  },
  {
   "cell_type": "markdown",
   "id": "3764c86d-1415-47b7-8ba8-91b434460b2e",
   "metadata": {},
   "source": [
    "# Super Method\n",
    "\n",
    "### Super() method is used to access the method of parent classes"
   ]
  },
  {
   "cell_type": "code",
   "execution_count": 67,
   "id": "3352876e-aeda-4c2e-9d39-42aa79749276",
   "metadata": {},
   "outputs": [
    {
     "name": "stdout",
     "output_type": "stream",
     "text": [
      "Cat Started\n",
      "Electric\n"
     ]
    }
   ],
   "source": [
    "class Car():\n",
    "    def __init__(self, type):\n",
    "        self.type = type\n",
    "    \n",
    "    @staticmethod\n",
    "    def start():\n",
    "        print('Cat Started')\n",
    "\n",
    "    @staticmethod\n",
    "    def stop():\n",
    "        print('Car Stopped')\n",
    "\n",
    "class ToyotaCar(Car):\n",
    "    def __init__(self, name, type):\n",
    "        super().__init__(type)\n",
    "        self.name = name\n",
    "        super().start()\n",
    "\n",
    "car_1 = ToyotaCar('Fortuner', 'Electric')\n",
    "print(car_1.type)\n",
    "        "
   ]
  },
  {
   "cell_type": "markdown",
   "id": "ca89efb9-6511-461b-b909-a21a5c5c404a",
   "metadata": {},
   "source": [
    "# CLass Method"
   ]
  },
  {
   "cell_type": "code",
   "execution_count": 77,
   "id": "dad9c7c8-6c6f-43bf-bb63-529c7e7e6939",
   "metadata": {},
   "outputs": [
    {
     "name": "stdout",
     "output_type": "stream",
     "text": [
      "Hilbee Badar\n",
      "Hilbee Badar\n"
     ]
    }
   ],
   "source": [
    "class Person:\n",
    "    name = 'Khokar 333'\n",
    "\n",
    "    @classmethod\n",
    "    def changename(cls, name):\n",
    "        cls.name = name\n",
    "\n",
    "per_1 = Person()\n",
    "Person.changename('Hilbee Badar')  \n",
    "print(per_1.name)  \n",
    "print(Person.name)  \n",
    "\n"
   ]
  },
  {
   "cell_type": "markdown",
   "id": "8e93b655-3bea-4622-b68d-106b04e0909e",
   "metadata": {},
   "source": [
    "# Property\n",
    "\n",
    "### We used @peoperty decorater to any method in the class to used the method as a property"
   ]
  },
  {
   "cell_type": "code",
   "execution_count": 78,
   "id": "ad40d5d3-f682-4ff8-859e-b3aeb95bb927",
   "metadata": {},
   "outputs": [
    {
     "name": "stdout",
     "output_type": "stream",
     "text": [
      "85.66666666666667%\n",
      "89.66666666666667%\n",
      "86.66666666666667%\n",
      "88.33333333333333%\n"
     ]
    }
   ],
   "source": [
    "class Students:\n",
    "    def __init__(self, phy, chem, bio):\n",
    "        self.phy = phy\n",
    "        self.chem = chem\n",
    "        self.bio = bio\n",
    "\n",
    "    @property\n",
    "    def percentage(self):\n",
    "        return str((self.phy + self.chem + self.bio) / 3) + '%'\n",
    "\n",
    "stu_1 = Students(78, 89, 90)\n",
    "print(stu_1.percentage)\n",
    "\n",
    "stu_1.phy = 90\n",
    "print(stu_1.percentage)\n",
    "\n",
    "stu_1.chem = 80\n",
    "print(stu_1.percentage)\n",
    "\n",
    "stu_1.bio = 95\n",
    "print(stu_1.percentage)"
   ]
  },
  {
   "cell_type": "markdown",
   "id": "3cc49f08-6106-48bd-9e63-850ff21fa269",
   "metadata": {},
   "source": [
    "# Polymorphism"
   ]
  },
  {
   "cell_type": "code",
   "execution_count": 1,
   "id": "510cd5f1-b38c-46f1-a39f-8a4a34fd66c7",
   "metadata": {},
   "outputs": [
    {
     "name": "stdout",
     "output_type": "stream",
     "text": [
      "The car drives on the road.\n",
      "The boat sails on the water.\n",
      "The airplane flies in the sky.\n"
     ]
    }
   ],
   "source": [
    "class Vehicle:\n",
    "    def move(self):\n",
    "        raise NotImplementedError(\"Subclasses should implement this!\")\n",
    "\n",
    "class Car(Vehicle):\n",
    "    def move(self):\n",
    "        return \"The car drives on the road.\"\n",
    "\n",
    "class Boat(Vehicle):\n",
    "    def move(self):\n",
    "        return \"The boat sails on the water.\"\n",
    "\n",
    "class Airplane(Vehicle):\n",
    "    def move(self):\n",
    "        return \"The airplane flies in the sky.\"\n",
    "\n",
    "def vehicle_move(vehicle):\n",
    "    print(vehicle.move())\n",
    "\n",
    "car = Car()\n",
    "boat = Boat()\n",
    "airplane = Airplane()\n",
    "\n",
    "vehicle_move(car)     \n",
    "vehicle_move(boat)  \n",
    "vehicle_move(airplane) \n"
   ]
  },
  {
   "cell_type": "code",
   "execution_count": 2,
   "id": "404b2adf-9756-4161-9cc4-9595658b7ae1",
   "metadata": {},
   "outputs": [
    {
     "name": "stdout",
     "output_type": "stream",
     "text": [
      "woof\n",
      "meow\n",
      "woof\n",
      "meow\n"
     ]
    }
   ],
   "source": [
    "class dog:\n",
    "    def speak(self):\n",
    "        print(\"woof\")\n",
    "class cat:\n",
    "    def speak(self):\n",
    "        print(\"meow\")\n",
    "\n",
    "def animal_sound(animal):\n",
    "\n",
    "    animal.speak()\n",
    "\n",
    "dog_obj=dog()\n",
    "cat_obj=cat()\n",
    "\n",
    "animal_sound(dog_obj)\n",
    "animal_sound(cat_obj)\n",
    "\n",
    "animal_sound(dog_obj)\n",
    "animal_sound(cat_obj)"
   ]
  },
  {
   "cell_type": "code",
   "execution_count": 3,
   "id": "0e5ebad4-a5d4-46a3-bf3a-0541e399aa7b",
   "metadata": {},
   "outputs": [
    {
     "ename": "IndentationError",
     "evalue": "expected an indented block after function definition on line 2 (426706874.py, line 4)",
     "output_type": "error",
     "traceback": [
      "\u001b[1;36m  Cell \u001b[1;32mIn[3], line 4\u001b[1;36m\u001b[0m\n\u001b[1;33m    class Circle(Shape):\u001b[0m\n\u001b[1;37m                        ^\u001b[0m\n\u001b[1;31mIndentationError\u001b[0m\u001b[1;31m:\u001b[0m expected an indented block after function definition on line 2\n"
     ]
    }
   ],
   "source": [
    "class Shape:\n",
    "    def area(self):\n",
    "\n",
    "class Circle(Shape):\n",
    "    def __init__(self, radius):\n",
    "        self.radius = radius\n",
    "    \n",
    "    def area(self):\n",
    "        return 3.14 * self.radius * self.radius\n",
    "\n",
    "class Rectangle(Shape):\n",
    "    def __init__(self, width, height):\n",
    "        self.width = width\n",
    "        self.height = height\n",
    "    \n",
    "    def area(self):\n",
    "        return self.width * self.height\n",
    "\n",
    "class Triangle(Shape):\n",
    "    def __init__(self, base, height):\n",
    "        self.base = base\n",
    "        self.height = height\n",
    "    \n",
    "    def area(self):\n",
    "        return 0.5 * self.base * self.height\n",
    "\n",
    "def print_area(shape):\n",
    "    print(f\"The area of the shape is: {shape.area()}\")\n",
    "\n",
    "circle = Circle(5)\n",
    "rectangle = Rectangle(4, 6)\n",
    "triangle = Triangle(3, 7)\n",
    "\n",
    "print_area(circle)    #\n",
    "print_area(rectangle) \n",
    "print_area(triangle)  \n"
   ]
  },
  {
   "cell_type": "markdown",
   "id": "941d61c0-cb24-4ded-aeb7-03f0f31b2685",
   "metadata": {},
   "source": [
    "# Task 1\n",
    "\n",
    "### Write a Python class called Rectangle that has attributes length and width. Implement methods to calculate the area and perimeter of the rectangle."
   ]
  },
  {
   "cell_type": "code",
   "execution_count": 5,
   "id": "d6291eab-58c2-4cd4-9574-2622c5c1aa74",
   "metadata": {},
   "outputs": [
    {
     "name": "stdout",
     "output_type": "stream",
     "text": [
      "Area: 15\n",
      "Perimeter: 16\n"
     ]
    }
   ],
   "source": [
    "class Rectangle:\n",
    "    def __init__(self, length, width):\n",
    "        self.length = length\n",
    "        self.width = width\n",
    "\n",
    "    def area(self):\n",
    "        return self.length * self.width\n",
    "\n",
    "    def perimeter(self):\n",
    "        return 2 * (self.length + self.width)\n",
    "\n",
    "# Example usage:\n",
    "rect = Rectangle(5, 3)\n",
    "print(\"Area:\", rect.area())\n",
    "print(\"Perimeter:\", rect.perimeter())"
   ]
  },
  {
   "cell_type": "markdown",
   "id": "409d0554-e47b-4003-87f2-3668cef6c578",
   "metadata": {},
   "source": [
    "# Task 2\n",
    "\n",
    "### Create a class hierarchy in Python consisting of a base class called Animal, and derived classes Dog, Cat, and Bird. Each derived class should have its unique method. Instantiate objects of each class and demonstrate polymorphism by calling a common method on each object.\n"
   ]
  },
  {
   "cell_type": "code",
   "execution_count": 39,
   "id": "57da3b0f-45fb-4cd5-ae7d-c5b0bfc3d2c4",
   "metadata": {},
   "outputs": [
    {
     "name": "stdout",
     "output_type": "stream",
     "text": [
      "Chee says Woof!\n",
      "Luckey says Meow!\n",
      "Hupupoo says Chirp!\n",
      "Chee is fetching a ball.\n",
      "Luckey is scratching the furniture.\n",
      "Hupupoo is flying high.\n"
     ]
    }
   ],
   "source": [
    "class Animal:\n",
    "    def __init__(self, name):\n",
    "        self.name = name\n",
    "\n",
    "    def sound(self):\n",
    "        pass\n",
    "\n",
    "class Dog(Animal):\n",
    "    def __init__(self, name):\n",
    "        super().__init__(name)\n",
    "\n",
    "    def sound(self):\n",
    "        return f\"{self.name} says Woof!\"\n",
    "\n",
    "    def fetch(self):\n",
    "        return f\"{self.name} is fetching a ball.\"\n",
    "\n",
    "class Cat(Animal):\n",
    "    def __init__(self, name):\n",
    "        super().__init__(name)\n",
    "\n",
    "    def sound(self):\n",
    "        return f\"{self.name} says Meow!\"\n",
    "\n",
    "    def scratch(self):\n",
    "        return f\"{self.name} is scratching the furniture.\"\n",
    "\n",
    "class Bird(Animal):\n",
    "    def __init__(self, name):\n",
    "        super().__init__(name)\n",
    "\n",
    "    def sound(self):\n",
    "        return f\"{self.name} says Chirp!\"\n",
    "\n",
    "    def fly(self):\n",
    "        return f\"{self.name} is flying high.\"\n",
    "\n",
    "dog = Dog(\"Chee\")\n",
    "cat = Cat(\"Luckey\")\n",
    "bird = Bird(\"Hupupoo\")\n",
    "\n",
    "animals = [dog, cat, bird]\n",
    "for animal in animals:\n",
    "    print(animal.sound())\n",
    "\n",
    "print(dog.fetch())\n",
    "print(cat.scratch())\n",
    "print(bird.fly())"
   ]
  },
  {
   "cell_type": "markdown",
   "id": "1429b2a9-4177-4280-a7b4-b38ab9d50f55",
   "metadata": {},
   "source": [
    "# Task 3\n",
    "\n",
    "### Write a Python class called Shape with a method area() that returns the area of the shape. Create two subclasses, Rectangle and Circle, each overriding the area() method to calculate the area of the specific shape. Instantiate objects of each class and display their areas."
   ]
  },
  {
   "cell_type": "code",
   "execution_count": 40,
   "id": "b444068e-b0a0-40b8-a1fd-82407cb39c84",
   "metadata": {},
   "outputs": [
    {
     "name": "stdout",
     "output_type": "stream",
     "text": [
      "Rectangle Area: 15\n",
      "Circle Area: 50.26544\n"
     ]
    }
   ],
   "source": [
    "class Shape:\n",
    "    def area(self):\n",
    "        pass\n",
    "\n",
    "class Rectangle(Shape):\n",
    "    def __init__(self, length, width):\n",
    "        self.length = length\n",
    "        self.width = width\n",
    "\n",
    "    def area(self):\n",
    "        return self.length * self.width\n",
    "\n",
    "class Circle(Shape):\n",
    "    def __init__(self, radius):\n",
    "        self.radius = radius\n",
    "\n",
    "    def area(self):\n",
    "        return 3.14159 * (self.radius ** 2)\n",
    "\n",
    "rectangle = Rectangle(5, 3)\n",
    "circle = Circle(4)\n",
    "\n",
    "print(\"Rectangle Area:\", rectangle.area())\n",
    "print(\"Circle Area:\", circle.area())"
   ]
  },
  {
   "cell_type": "code",
   "execution_count": null,
   "id": "c183c302-e9bf-4aed-8b11-f7052f0e004d",
   "metadata": {},
   "outputs": [],
   "source": []
  }
 ],
 "metadata": {
  "kernelspec": {
   "display_name": "Python 3 (ipykernel)",
   "language": "python",
   "name": "python3"
  },
  "language_info": {
   "codemirror_mode": {
    "name": "ipython",
    "version": 3
   },
   "file_extension": ".py",
   "mimetype": "text/x-python",
   "name": "python",
   "nbconvert_exporter": "python",
   "pygments_lexer": "ipython3",
   "version": "3.12.4"
  }
 },
 "nbformat": 4,
 "nbformat_minor": 5
}
